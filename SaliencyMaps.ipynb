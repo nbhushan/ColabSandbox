{
  "nbformat": 4,
  "nbformat_minor": 0,
  "metadata": {
    "colab": {
      "name": "SaliencyMaps",
      "provenance": [],
      "collapsed_sections": [],
      "authorship_tag": "ABX9TyOFnS/RL4XuEYBM2Cg9O0Iy",
      "include_colab_link": true
    },
    "kernelspec": {
      "name": "python3",
      "display_name": "Python 3"
    },
    "language_info": {
      "name": "python"
    },
    "accelerator": "GPU"
  },
  "cells": [
    {
      "cell_type": "markdown",
      "metadata": {
        "id": "view-in-github",
        "colab_type": "text"
      },
      "source": [
        "<a href=\"https://colab.research.google.com/github/nbhushan/ColabSandbox/blob/main/SaliencyMaps.ipynb\" target=\"_parent\"><img src=\"https://colab.research.google.com/assets/colab-badge.svg\" alt=\"Open In Colab\"/></a>"
      ]
    },
    {
      "cell_type": "code",
      "execution_count": 13,
      "metadata": {
        "colab": {
          "base_uri": "https://localhost:8080/"
        },
        "id": "CFrwoIAdq3Ao",
        "outputId": "a97192e9-415a-409e-91ea-8d535fb87bb2"
      },
      "outputs": [
        {
          "output_type": "stream",
          "name": "stdout",
          "text": [
            "Requirement already satisfied: tf_explain in c:\\users\\bhushan.n\\anaconda3\\envs\\deeplearninggpu\\lib\\site-packages (0.3.1)\n",
            "Requirement already satisfied: opencv-python in c:\\users\\bhushan.n\\anaconda3\\envs\\deeplearninggpu\\lib\\site-packages (4.5.5.62)\n",
            "Requirement already satisfied: numpy>=1.14.5 in c:\\users\\bhushan.n\\anaconda3\\envs\\deeplearninggpu\\lib\\site-packages (from opencv-python) (1.21.2)\n"
          ]
        }
      ],
      "source": [
        "#load libraries\n",
        "\n",
        "import numpy as np\n",
        "import tensorflow as tf\n",
        "import PIL\n",
        "\n",
        "\n",
        "\n",
        "!pip install tf_explain\n",
        "!pip install opencv-python\n",
        "\n",
        "from tf_explain.core.vanilla_gradients import VanillaGradients\n",
        "from tf_explain.core.grad_cam import GradCAM\n",
        "\n"
      ]
    },
    {
      "cell_type": "code",
      "source": [
        "IMAGE_PATH = \"C:/Users/bhushan.n/Desktop/cat.jpg\"\n",
        "\n",
        "\n",
        "model = tf.keras.applications.vgg16.VGG16(weights=\"imagenet\", include_top=True)\n",
        "\n",
        "img = tf.keras.preprocessing.image.load_img(IMAGE_PATH, target_size=(224, 224))\n",
        "img = tf.keras.preprocessing.image.img_to_array(img)\n",
        "\n",
        "model.summary()\n",
        "data = (np.array([img]), None)\n",
        "\n",
        "tabby_cat_class_index = 281\n",
        "explainer = GradCAM()\n",
        "\n",
        "# Compute GradCAM on VGG16\n",
        "grid = explainer.explain(data, \n",
        "                         model, \n",
        "                         class_index=tabby_cat_class_index, \n",
        "                         layer_name=\"block5_conv3\"\n",
        "                         )\n",
        "\n",
        "\n",
        "explainer.save(grid, \"C:/Users/bhushan.n/Desktop/\", \"grad_cam.png\")"
      ],
      "metadata": {
        "colab": {
          "base_uri": "https://localhost:8080/"
        },
        "id": "gpyiOEHtrn-8",
        "outputId": "169614db-7597-415b-fb06-15ef1723635c"
      },
      "execution_count": 16,
      "outputs": [
        {
          "output_type": "stream",
          "name": "stdout",
          "text": [
            "Model: \"vgg16\"\n",
            "_________________________________________________________________\n",
            "Layer (type)                 Output Shape              Param #   \n",
            "=================================================================\n",
            "input_9 (InputLayer)         [(None, 224, 224, 3)]     0         \n",
            "_________________________________________________________________\n",
            "block1_conv1 (Conv2D)        (None, 224, 224, 64)      1792      \n",
            "_________________________________________________________________\n",
            "block1_conv2 (Conv2D)        (None, 224, 224, 64)      36928     \n",
            "_________________________________________________________________\n",
            "block1_pool (MaxPooling2D)   (None, 112, 112, 64)      0         \n",
            "_________________________________________________________________\n",
            "block2_conv1 (Conv2D)        (None, 112, 112, 128)     73856     \n",
            "_________________________________________________________________\n",
            "block2_conv2 (Conv2D)        (None, 112, 112, 128)     147584    \n",
            "_________________________________________________________________\n",
            "block2_pool (MaxPooling2D)   (None, 56, 56, 128)       0         \n",
            "_________________________________________________________________\n",
            "block3_conv1 (Conv2D)        (None, 56, 56, 256)       295168    \n",
            "_________________________________________________________________\n",
            "block3_conv2 (Conv2D)        (None, 56, 56, 256)       590080    \n",
            "_________________________________________________________________\n",
            "block3_conv3 (Conv2D)        (None, 56, 56, 256)       590080    \n",
            "_________________________________________________________________\n",
            "block3_pool (MaxPooling2D)   (None, 28, 28, 256)       0         \n",
            "_________________________________________________________________\n",
            "block4_conv1 (Conv2D)        (None, 28, 28, 512)       1180160   \n",
            "_________________________________________________________________\n",
            "block4_conv2 (Conv2D)        (None, 28, 28, 512)       2359808   \n",
            "_________________________________________________________________\n",
            "block4_conv3 (Conv2D)        (None, 28, 28, 512)       2359808   \n",
            "_________________________________________________________________\n",
            "block4_pool (MaxPooling2D)   (None, 14, 14, 512)       0         \n",
            "_________________________________________________________________\n",
            "block5_conv1 (Conv2D)        (None, 14, 14, 512)       2359808   \n",
            "_________________________________________________________________\n",
            "block5_conv2 (Conv2D)        (None, 14, 14, 512)       2359808   \n",
            "_________________________________________________________________\n",
            "block5_conv3 (Conv2D)        (None, 14, 14, 512)       2359808   \n",
            "_________________________________________________________________\n",
            "block5_pool (MaxPooling2D)   (None, 7, 7, 512)         0         \n",
            "_________________________________________________________________\n",
            "flatten (Flatten)            (None, 25088)             0         \n",
            "_________________________________________________________________\n",
            "fc1 (Dense)                  (None, 4096)              102764544 \n",
            "_________________________________________________________________\n",
            "fc2 (Dense)                  (None, 4096)              16781312  \n",
            "_________________________________________________________________\n",
            "predictions (Dense)          (None, 1000)              4097000   \n",
            "=================================================================\n",
            "Total params: 138,357,544\n",
            "Trainable params: 138,357,544\n",
            "Non-trainable params: 0\n",
            "_________________________________________________________________\n"
          ]
        }
      ]
    }
  ]
}