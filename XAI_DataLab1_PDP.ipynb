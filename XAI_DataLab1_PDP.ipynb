{
  "nbformat": 4,
  "nbformat_minor": 0,
  "metadata": {
    "colab": {
      "name": "XAI_DataLab1_PDP.ipynb",
      "provenance": [],
      "include_colab_link": true
    },
    "kernelspec": {
      "name": "python3",
      "display_name": "Python 3"
    }
  },
  "cells": [
    {
      "cell_type": "markdown",
      "metadata": {
        "id": "view-in-github",
        "colab_type": "text"
      },
      "source": [
        "<a href=\"https://colab.research.google.com/github/nbhushan/ColabSandbox/blob/main/XAI_DataLab1_PDP.ipynb\" target=\"_parent\"><img src=\"https://colab.research.google.com/assets/colab-badge.svg\" alt=\"Open In Colab\"/></a>"
      ]
    },
    {
      "cell_type": "markdown",
      "metadata": {
        "id": "gMPstBBCNFaL"
      },
      "source": [
        "# Applying Partial Dependence Plot (PDP) to understand what drives bike rentals."
      ]
    },
    {
      "cell_type": "markdown",
      "source": [
        "In this notebook, we will explore the use of PDPs to understand the factors that drive bike rentals. You are free to use any predictive model of your choice."
      ],
      "metadata": {
        "id": "fh7SSO93TyMH"
      }
    },
    {
      "cell_type": "markdown",
      "metadata": {
        "id": "-arA5tCvihn-"
      },
      "source": [
        "1. Load the required libraries"
      ]
    },
    {
      "cell_type": "code",
      "metadata": {
        "id": "lK5MGFVPMxJP"
      },
      "source": [
        "# base packages\n",
        "import pandas as pd\n",
        "import numpy as np\n",
        "import matplotlib.pyplot as plt\n",
        "\n",
        "# ML packages\n",
        "from sklearn.model_selection import train_test_split\n",
        "from sklearn.tree import DecisionTreeRegressor\n",
        "from sklearn import metrics\n",
        "from sklearn.metrics import r2_score\n",
        "from sklearn.preprocessing import OneHotEncoder\n",
        "\n",
        "#XAI packages\n",
        "from sklearn.inspection import PartialDependenceDisplay"
      ],
      "execution_count": null,
      "outputs": []
    },
    {
      "cell_type": "markdown",
      "metadata": {
        "id": "KfPc3Dj_iVv3"
      },
      "source": [
        "2. Download the BikeRentalsDataset from the UCI repository.\n",
        "\n",
        "This dataset contains daily counts of rented bicycles from the bicycle rental company Capital-Bikeshare in Washington D.C., along with weather and seasonal information. The goal is to predict how many bikes will be rented depending on the weather and the day. "
      ]
    },
    {
      "cell_type": "code",
      "metadata": {
        "id": "IFo01fzhNbZc"
      },
      "source": [
        "# Since we are using colab, we can directly use linux commands such as wget, unzip and ls\n",
        "!wget https://archive.ics.uci.edu/ml/machine-learning-databases/00275/Bike-Sharing-Dataset.zip \n",
        "!unzip Bike-Sharing-Dataset.zip \n",
        "!ls"
      ],
      "execution_count": null,
      "outputs": []
    },
    {
      "cell_type": "markdown",
      "metadata": {
        "id": "LmKW_ArpkRcF"
      },
      "source": [
        "3. Exploratory Data Analysis"
      ]
    },
    {
      "cell_type": "code",
      "metadata": {
        "id": "gpLjOeLyN1AR"
      },
      "source": [
        "# use the data catalog to understand the features (https://christophm.github.io/interpretable-ml-book/bike-data.html)\n",
        "df = pd.read_csv(\"day.csv\")\n",
        "df.head()"
      ],
      "execution_count": null,
      "outputs": []
    },
    {
      "cell_type": "markdown",
      "metadata": {
        "id": "O13H8H94kb1u"
      },
      "source": [
        "Next, let's check the data types of the features.\n",
        "\n"
      ]
    },
    {
      "cell_type": "code",
      "metadata": {
        "id": "pvOzjV95PZTU"
      },
      "source": [
        "#keep only relevant columns (https://christophm.github.io/interpretable-ml-book/bike-data.html)\n",
        "\n",
        "df.drop(columns=['instant', 'dteday', 'registered', 'casual', 'yr'], axis=0, inplace=True)\n"
      ],
      "execution_count": null,
      "outputs": []
    },
    {
      "cell_type": "markdown",
      "metadata": {
        "id": "6cL6ctOJnom8"
      },
      "source": [
        "Clearly, we need to convert some features to categorical before we do the analysis."
      ]
    },
    {
      "cell_type": "code",
      "source": [
        "# use a for-loop to convert the categorical features to the categorical data type and create dummy variables\n",
        "\n",
        "categorical_columns = ['season', 'holiday', 'weekday', 'workingday', \"weathersit\", \"mnth\"]\n",
        "for col in categorical_columns:\n",
        "    df[col] = df[col].astype('category')\n",
        "\n",
        "# verify that the change is now applied\n",
        "print(df.dtypes)\n",
        "print(df.columns)"
      ],
      "metadata": {
        "id": "JSNsSjwWV74F"
      },
      "execution_count": null,
      "outputs": []
    },
    {
      "cell_type": "code",
      "source": [
        "#mark categorical variables\n",
        "categorical_features = ['season', 'mnth', 'holiday', 'weekday', 'workingday', 'weathersit']\n"
      ],
      "metadata": {
        "id": "yhhsl6NpYPiC"
      },
      "execution_count": null,
      "outputs": []
    },
    {
      "cell_type": "markdown",
      "source": [
        "Let's make some plots to understand the data."
      ],
      "metadata": {
        "id": "qNmav3oaXBmg"
      }
    },
    {
      "cell_type": "code",
      "source": [
        "plt.figure(figsize=(15, 5))\n",
        "# Using subplots to generate multiple plots side-by-side\n",
        "plt.subplot(131)\n",
        "plt.scatter('temp', 'cnt', data=df)\n",
        "plt.xlabel('temperature')\n",
        "plt.ylabel('bike rentals')\n",
        "plt.subplot(132)\n",
        "plt.scatter('windspeed', 'cnt', data=df)\n",
        "plt.xlabel('windspeed')\n",
        "plt.subplot(133)\n",
        "plt.scatter('hum', 'cnt', data=df)\n",
        "plt.xlabel('humidity')\n",
        "plt.suptitle('Key Features predicting bike rentals')\n",
        "plt.show()\n"
      ],
      "metadata": {
        "id": "QVjoP7_BXP1O"
      },
      "execution_count": null,
      "outputs": []
    },
    {
      "cell_type": "code",
      "source": [
        "#view correlation matrix\n",
        "\n",
        "df.corr()"
      ],
      "metadata": {
        "id": "DMNsyUt4aRi3"
      },
      "execution_count": null,
      "outputs": []
    },
    {
      "cell_type": "markdown",
      "source": [
        "## Add your observations here\n",
        "\n",
        "Comment on the nature of the relationship between the three features and the \n",
        "outcome\n",
        "\n",
        "(hint: which variable would you remove from your analysis?)"
      ],
      "metadata": {
        "id": "hB-3VqLxYs87"
      }
    },
    {
      "cell_type": "markdown",
      "metadata": {
        "id": "cBOvzjIZbppo"
      },
      "source": [
        "# Predictive Model\n",
        "\n",
        "First, we will divide the data into features and outcome. Our outcome is what we are trying to predict (the count of bike rentals on a given day), and our features are our input into that prediction.\n",
        "\n",
        "To start with, I am only going to include numerical features"
      ]
    },
    {
      "cell_type": "code",
      "metadata": {
        "id": "ufo3spD-SDl0"
      },
      "source": [
        "#Create feature vector\n",
        "features = df[['temp', 'hum', 'windspeed']]\n",
        "\n",
        "#Create outcome vector\n",
        "outcome = df['cnt']"
      ],
      "execution_count": null,
      "outputs": []
    },
    {
      "cell_type": "markdown",
      "metadata": {
        "id": "ylzoS7jLzeNX"
      },
      "source": [
        "Split the data into traiing and test sets\n"
      ]
    },
    {
      "cell_type": "code",
      "metadata": {
        "id": "wzB9SrU5zfRZ"
      },
      "source": [
        "# Split data into train and test set: 70% / 30%\n",
        "X_train, X_test, y_train, y_test = train_test_split(features, outcome, test_size=0.3, random_state=0)"
      ],
      "execution_count": null,
      "outputs": []
    },
    {
      "cell_type": "markdown",
      "source": [
        "Let's build a decision tree using default parameters, train the model and generate predictions."
      ],
      "metadata": {
        "id": "cEdM0ND7ZwQ8"
      }
    },
    {
      "cell_type": "code",
      "source": [
        "#build the model\n",
        "mod_DT = DecisionTreeRegressor()\n",
        "#model fit\n",
        "mod_DT.fit(X_train, y_train)\n",
        "# make predictions\n",
        "y_pred = mod_DT.predict(X_test)"
      ],
      "metadata": {
        "id": "PyvcDncvaLx8"
      },
      "execution_count": null,
      "outputs": []
    },
    {
      "cell_type": "markdown",
      "source": [
        "## Model Interpretation\n",
        "\n",
        "Let's use PDPs to understand how the model makes it's predictions."
      ],
      "metadata": {
        "id": "2AtDsySubnWb"
      }
    },
    {
      "cell_type": "code",
      "source": [
        "pdp_features = ['temp', 'hum', 'windspeed']\n",
        "\n",
        "fig, ax = plt.subplots(figsize=(12, 6))\n",
        "ax.set_title(\"PDP: Decision tree regression\")\n",
        "pdp_RF = PartialDependenceDisplay.from_estimator(mod_DT, X_train, pdp_features, \n",
        "                                                 ax=ax, grid_resolution=5)"
      ],
      "metadata": {
        "id": "lUuD7izQbuKM"
      },
      "execution_count": null,
      "outputs": []
    },
    {
      "cell_type": "markdown",
      "source": [
        "The left plot shows the partial dependence between bike rentals and temperature.\n",
        "\n",
        "We notice that PDPs are always generated after we fit the model, in this case we fit the model using temperature, humidity, windspeed as features.\n",
        "\n",
        "\n",
        "We then now use the model to predict rentals on a given day D with a set humidity and windspeed, but only vary the temperature. We first predict the number of rentals for the day when the temperature is 0.2 (recall that temperature is normalized). We then repeat it for 0.4, 0.6..and so on until we reach the maximum range that temeprature can reach (1 because of normalization). In this way we trace out how the bike rentals change as we vary temeprature, keeping humidity and windspeed fixed (or \"integrating\" out humidity and windspeed).\n",
        "\n",
        "In reality, what you observe is the plot obtained by performing the same guessing game for several days and averaging them to get a robust idea of how the model is able to make it's predictions.\n",
        "\n",
        "In the left graph, we see rentals tend to increase and temperatures increase, but at a certain point, they start to dip because the temperatures start to reach their maximum values. In other words, it's too hot to bike.\n",
        "\n",
        "The right graph shows the impact of windspeed and humidity which have clearer (almost linear) interpretations."
      ],
      "metadata": {
        "id": "H4So8lIWer8V"
      }
    },
    {
      "cell_type": "markdown",
      "source": [
        "## Model Evaluation"
      ],
      "metadata": {
        "id": "ez1WfL4Bbjey"
      }
    },
    {
      "cell_type": "markdown",
      "metadata": {
        "id": "nTvjke92d_iY"
      },
      "source": [
        "To evaluate how well our model performed, we'll look at three metrics:\n",
        "\n",
        "\n",
        "*   MAE: the average of all absolute errors.\n",
        "*   MSE: takes the distance of all points from the regression line (residuals) and returns the squared average.\n",
        "*   RMSE: the standard deviation of the residuals.\n",
        "\n",
        "\n",
        "\n"
      ]
    },
    {
      "cell_type": "code",
      "metadata": {
        "id": "-b__MO1Y0Pk9"
      },
      "source": [
        "print('Mean Absolute Error:', metrics.mean_absolute_error(y_test, y_pred))\n",
        "print('Mean Squared Error:', metrics.mean_squared_error(y_test, y_pred))\n",
        "print('Root Mean Squared Error:', np.sqrt(metrics.mean_squared_error(y_test, y_pred)))"
      ],
      "execution_count": null,
      "outputs": []
    },
    {
      "cell_type": "markdown",
      "metadata": {
        "id": "ypTb4AS8WPMI"
      },
      "source": [
        "We can determine how well the regression model fits the observed data with the r-squared value. R-squared is a value between 0 and 1, with a higher r-squred value generally indicating a better fit. We will round to two decimal places."
      ]
    },
    {
      "cell_type": "code",
      "metadata": {
        "id": "KWnITd0_Vm9g"
      },
      "source": [
        "print('R_squared: %.2f'\n",
        "      % r2_score(y_test, y_pred))"
      ],
      "execution_count": null,
      "outputs": []
    },
    {
      "cell_type": "markdown",
      "metadata": {
        "id": "D0II_BjZX4e7"
      },
      "source": [
        "Our r-squared value is X, which means that our model explains X% of the differences between the actual rental count and the predicted count. "
      ]
    },
    {
      "cell_type": "markdown",
      "source": [
        "# Challenge\n",
        "\n",
        "1. Build a predictive model that can improve on the R_squared of X and interpret\n",
        "the model using PDPs.\n",
        "2. Start by including categorical predictors to the decision tree (using one hot encoding()).\n",
        "3. Next, try different models."
      ],
      "metadata": {
        "id": "aYY-zvB4g_i6"
      }
    }
  ]
}